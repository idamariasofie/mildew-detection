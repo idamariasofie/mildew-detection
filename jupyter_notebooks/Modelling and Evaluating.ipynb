{
  "cells": [
    {
      "cell_type": "markdown",
      "metadata": {
        "id": "0aStgWSO0E0E"
      },
      "source": [
        "# **Modelling and Evaluation Notebook**"
      ]
    },
    {
      "cell_type": "markdown",
      "metadata": {
        "id": "1eLEkw5O0ECa"
      },
      "source": [
        "## Objectives\n",
        "\n",
        "* Answer business requirement 2:\n",
        "    * Deliver an ML system that is capable of predicting whether a cherry leaf is healthy or contains powdery mildew. \n",
        "\n",
        "## Inputs\n",
        "\n",
        "* inputs/mildew_dataset/leaves_images/train\n",
        "* inputs/mildew_dataset/leaves_images/test\n",
        "* inputs/mildew_dataset/leaves_images/validation\n",
        "* image shape embeddings.\n",
        "\n",
        "## Outputs\n",
        "\n",
        "* Images distribution plot in train, validation, and test set.\n",
        "* Image augmentation.\n",
        "* Class indices to change prediction inference in labels.\n",
        "* Machine learning model creation and training.\n",
        "* Save model.\n",
        "* Learning curve plot for model performance.\n",
        "* Model evaluation on pickle file.\n",
        "* Prediction on the random image file.\n",
        "\n",
        "\n",
        "## Additional Comments\n",
        "\n",
        "* No additional comments.\n",
        "\n"
      ]
    },
    {
      "cell_type": "markdown",
      "metadata": {
        "id": "9uWZXH9LwoQg"
      },
      "source": [
        "---"
      ]
    },
    {
      "cell_type": "markdown",
      "metadata": {},
      "source": [
        "## Import regular packages"
      ]
    },
    {
      "cell_type": "code",
      "execution_count": 24,
      "metadata": {},
      "outputs": [],
      "source": [
        "# Import libraries\n",
        "import tensorflow as tf\n",
        "from tensorflow.keras.models import Sequential\n",
        "from tensorflow.keras.optimizers import Adam\n",
        "from tensorflow.keras.preprocessing.image import ImageDataGenerator\n",
        "from tensorflow.keras.layers import Conv2D, Dropout, Flatten, Dense, BatchNormalization, MaxPooling2D\n",
        "import cv2\n",
        "from sklearn.model_selection import GridSearchCV\n",
        "from sklearn.metrics import classification_report\n",
        "from sklearn.metrics import confusion_matrix\n",
        "\n",
        "import os\n",
        "import numpy as np\n",
        "import pandas as pd\n",
        "import matplotlib.pyplot as plt\n",
        "import seaborn as sns"
      ]
    },
    {
      "cell_type": "markdown",
      "metadata": {},
      "source": [
        "## Set Working Directory"
      ]
    },
    {
      "cell_type": "code",
      "execution_count": 25,
      "metadata": {},
      "outputs": [],
      "source": [
        "cwd= os.getcwd()"
      ]
    },
    {
      "cell_type": "code",
      "execution_count": 26,
      "metadata": {},
      "outputs": [
        {
          "name": "stdout",
          "output_type": "stream",
          "text": [
            "You set a new current directory\n"
          ]
        }
      ],
      "source": [
        "os.chdir('/workspace/mildew-detection')\n",
        "print(\"You set a new current directory\")"
      ]
    },
    {
      "cell_type": "code",
      "execution_count": 27,
      "metadata": {},
      "outputs": [
        {
          "data": {
            "text/plain": [
              "'/workspace/mildew-detection'"
            ]
          },
          "execution_count": 27,
          "metadata": {},
          "output_type": "execute_result"
        }
      ],
      "source": [
        "work_dir = os.getcwd()\n",
        "work_dir"
      ]
    },
    {
      "cell_type": "markdown",
      "metadata": {},
      "source": [
        "## Import Dataframes"
      ]
    },
    {
      "cell_type": "code",
      "execution_count": 6,
      "metadata": {},
      "outputs": [],
      "source": [
        "import pandas as pd\n",
        "\n",
        "# Paths to the CSV files previously created\n",
        "train_csv_path = '/workspace/mildew-detection/jupyter_notebooks/train_dataframe.csv'\n",
        "validation_csv_path = '/workspace/mildew-detection/jupyter_notebooks/validation_dataframe.csv'\n",
        "test_csv_path = '/workspace/mildew-detection/jupyter_notebooks/test_dataframe.csv'\n",
        "\n",
        "# Read the CSV files into dataframes\n",
        "train_df = pd.read_csv(train_csv_path)\n",
        "validation_df = pd.read_csv(validation_csv_path)\n",
        "test_df = pd.read_csv(test_csv_path)"
      ]
    },
    {
      "cell_type": "markdown",
      "metadata": {},
      "source": [
        "## Set input directories"
      ]
    },
    {
      "cell_type": "code",
      "execution_count": 7,
      "metadata": {},
      "outputs": [],
      "source": [
        "# Define input directories from dataframes\n",
        "train_path = train_df['file']\n",
        "validation_path = validation_df['file']\n",
        "test_path = test_df['file']"
      ]
    },
    {
      "cell_type": "markdown",
      "metadata": {},
      "source": [
        "## Set output directory"
      ]
    },
    {
      "cell_type": "code",
      "execution_count": 8,
      "metadata": {},
      "outputs": [
        {
          "name": "stdout",
          "output_type": "stream",
          "text": [
            "Old version is already available create a new version.\n"
          ]
        }
      ],
      "source": [
        "version = 'v1'\n",
        "file_path = f'outputs/{version}'\n",
        "\n",
        "if 'outputs' in os.listdir(work_dir) and version in os.listdir(work_dir + '/outputs'):\n",
        "    print('Old version is already available create a new version.')\n",
        "    pass\n",
        "else:\n",
        "    os.makedirs(name=file_path)"
      ]
    },
    {
      "cell_type": "markdown",
      "metadata": {},
      "source": [
        "## Set labels"
      ]
    },
    {
      "cell_type": "code",
      "execution_count": 9,
      "metadata": {},
      "outputs": [
        {
          "name": "stdout",
          "output_type": "stream",
          "text": [
            "Labels for the images are: ['0008f3d3-2f85-4973-be9a-1b520b8b59fc___JR_HL 4092.JPG'\n",
            " '0008f3d3-2f85-4973-be9a-1b520b8b59fc___JR_HL 4092_180deg.JPG'\n",
            " '0008f3d3-2f85-4973-be9a-1b520b8b59fc___JR_HL 4092_flipTB.JPG' ...\n",
            " 'ffdeb404-b84d-4389-9cc9-e1d3159374fe___FREC_Pwd.M 4625.JPG'\n",
            " 'ffdeb404-b84d-4389-9cc9-e1d3159374fe___FREC_Pwd.M 4625_flipLR.JPG'\n",
            " 'fff3ae4b-4bce-4b7a-b53c-98c482d9d8fd___FREC_Pwd.M 0414.JPG']\n"
          ]
        }
      ],
      "source": [
        "# Extract labels from the train DataFrame\n",
        "labels = train_df['file'].apply(os.path.basename)\n",
        "print('Labels for the images are:', labels.unique())"
      ]
    },
    {
      "cell_type": "markdown",
      "metadata": {},
      "source": [
        "## Set image shape"
      ]
    },
    {
      "cell_type": "code",
      "execution_count": 11,
      "metadata": {},
      "outputs": [
        {
          "name": "stdout",
          "output_type": "stream",
          "text": [
            "Image Shape: (256, 256, 3)\n"
          ]
        }
      ],
      "source": [
        "import pandas as pd\n",
        "from tensorflow.keras.preprocessing.image import load_img\n",
        "\n",
        "# Paths to the CSV files previously created\n",
        "train_csv_path = '/workspace/mildew-detection/jupyter_notebooks/train_dataframe.csv'\n",
        "validation_csv_path = '/workspace/mildew-detection/jupyter_notebooks/validation_dataframe.csv'\n",
        "test_csv_path = '/workspace/mildew-detection/jupyter_notebooks/test_dataframe.csv'\n",
        "\n",
        "# Read the CSV files into dataframes\n",
        "train_df = pd.read_csv(train_csv_path)\n",
        "validation_df = pd.read_csv(validation_csv_path)\n",
        "test_df = pd.read_csv(test_csv_path)\n",
        "\n",
        "# Image path from train DataFrame \n",
        "sample_image_path = train_df['file'].iloc[0]  \n",
        "\n",
        "# Load the sample image to get its shape\n",
        "sample_image = load_img(sample_image_path)\n",
        "image_shape = sample_image.size + (3,)  \n",
        "\n",
        "print(\"Image Shape:\", image_shape)"
      ]
    },
    {
      "cell_type": "markdown",
      "metadata": {
        "id": "ZY3l0-AxO93d"
      },
      "source": [
        "---"
      ]
    },
    {
      "cell_type": "markdown",
      "metadata": {
        "id": "uFQo3ycuO-v6"
      },
      "source": [
        "## Number of images in train, test and validation DataFrames"
      ]
    },
    {
      "cell_type": "markdown",
      "metadata": {},
      "source": [
        "Calculate and plot how many images"
      ]
    },
    {
      "cell_type": "code",
      "execution_count": 13,
      "metadata": {},
      "outputs": [
        {
          "name": "stdout",
          "output_type": "stream",
          "text": [
            "You set a new current directory\n",
            "Current directory: /workspace/mildew-detection\n",
            "Number of images in train DataFrame: 2944\n",
            "Number of images in validation DataFrame: 420\n",
            "Number of images in test DataFrame: 844\n"
          ]
        }
      ],
      "source": [
        "import os\n",
        "import pandas as pd\n",
        "import matplotlib.pyplot as plt\n",
        "import seaborn as sns\n",
        "from tensorflow.keras.preprocessing.image import load_img\n",
        "\n",
        "# Set Working Directory\n",
        "cwd = os.getcwd()\n",
        "os.chdir('/workspace/mildew-detection')\n",
        "print(\"You set a new current directory\")\n",
        "work_dir = os.getcwd()\n",
        "print(\"Current directory:\", work_dir)\n",
        "\n",
        "# Import Dataframes\n",
        "train_csv_path = 'jupyter_notebooks/train_dataframe.csv'\n",
        "validation_csv_path = 'jupyter_notebooks/validation_dataframe.csv'\n",
        "test_csv_path = 'jupyter_notebooks/test_dataframe.csv'\n",
        "\n",
        "train_df = pd.read_csv(train_csv_path)\n",
        "validation_df = pd.read_csv(validation_csv_path)\n",
        "test_df = pd.read_csv(test_csv_path)\n",
        "\n",
        "# Print the number of images in each DataFrame\n",
        "print(\"Number of images in train DataFrame:\", len(train_df))\n",
        "print(\"Number of images in validation DataFrame:\", len(validation_df))\n",
        "print(\"Number of images in test DataFrame:\", len(test_df))"
      ]
    },
    {
      "cell_type": "markdown",
      "metadata": {},
      "source": [
        "---"
      ]
    },
    {
      "cell_type": "markdown",
      "metadata": {},
      "source": [
        "## Image data augmentation"
      ]
    },
    {
      "cell_type": "markdown",
      "metadata": {},
      "source": [
        "---"
      ]
    },
    {
      "cell_type": "markdown",
      "metadata": {},
      "source": [
        "### ImageDataGenerator"
      ]
    },
    {
      "cell_type": "code",
      "execution_count": 14,
      "metadata": {},
      "outputs": [],
      "source": [
        "from tensorflow.keras.preprocessing.image import ImageDataGenerator"
      ]
    },
    {
      "cell_type": "markdown",
      "metadata": {},
      "source": [
        "### Initialize ImageDataGenerator"
      ]
    },
    {
      "cell_type": "code",
      "execution_count": 22,
      "metadata": {},
      "outputs": [
        {
          "ename": "TypeError",
          "evalue": "listdir: path should be string, bytes, os.PathLike, integer or None, not Series",
          "output_type": "error",
          "traceback": [
            "\u001b[0;31m---------------------------------------------------------------------------\u001b[0m",
            "\u001b[0;31mTypeError\u001b[0m                                 Traceback (most recent call last)",
            "\u001b[1;32m/workspace/mildew-detection/jupyter_notebooks/Modelling and Evaluating.ipynb Cell 30\u001b[0m line \u001b[0;36m1\n\u001b[1;32m      <a href='vscode-notebook-cell://idamariasof-mildewdetec-vx9w4hgykoj.ws-eu114.gitpod.io/workspace/mildew-detection/jupyter_notebooks/Modelling%20and%20Evaluating.ipynb#X41sdnNjb2RlLXJlbW90ZQ%3D%3D?line=0'>1</a>\u001b[0m augmented_image_data \u001b[39m=\u001b[39m ImageDataGenerator(rotation_range\u001b[39m=\u001b[39m\u001b[39m20\u001b[39m,\n\u001b[1;32m      <a href='vscode-notebook-cell://idamariasof-mildewdetec-vx9w4hgykoj.ws-eu114.gitpod.io/workspace/mildew-detection/jupyter_notebooks/Modelling%20and%20Evaluating.ipynb#X41sdnNjb2RlLXJlbW90ZQ%3D%3D?line=1'>2</a>\u001b[0m                                           width_shift_range\u001b[39m=\u001b[39m\u001b[39m0.10\u001b[39m,\n\u001b[1;32m      <a href='vscode-notebook-cell://idamariasof-mildewdetec-vx9w4hgykoj.ws-eu114.gitpod.io/workspace/mildew-detection/jupyter_notebooks/Modelling%20and%20Evaluating.ipynb#X41sdnNjb2RlLXJlbW90ZQ%3D%3D?line=2'>3</a>\u001b[0m                                           height_shift_range\u001b[39m=\u001b[39m\u001b[39m0.10\u001b[39m,\n\u001b[0;32m   (...)\u001b[0m\n\u001b[1;32m      <a href='vscode-notebook-cell://idamariasof-mildewdetec-vx9w4hgykoj.ws-eu114.gitpod.io/workspace/mildew-detection/jupyter_notebooks/Modelling%20and%20Evaluating.ipynb#X41sdnNjb2RlLXJlbW90ZQ%3D%3D?line=8'>9</a>\u001b[0m                                           rescale\u001b[39m=\u001b[39m\u001b[39m1.\u001b[39m\u001b[39m/\u001b[39m\u001b[39m255\u001b[39m\n\u001b[1;32m     <a href='vscode-notebook-cell://idamariasof-mildewdetec-vx9w4hgykoj.ws-eu114.gitpod.io/workspace/mildew-detection/jupyter_notebooks/Modelling%20and%20Evaluating.ipynb#X41sdnNjb2RlLXJlbW90ZQ%3D%3D?line=9'>10</a>\u001b[0m                                           )\n\u001b[1;32m     <a href='vscode-notebook-cell://idamariasof-mildewdetec-vx9w4hgykoj.ws-eu114.gitpod.io/workspace/mildew-detection/jupyter_notebooks/Modelling%20and%20Evaluating.ipynb#X41sdnNjb2RlLXJlbW90ZQ%3D%3D?line=11'>12</a>\u001b[0m batch_size \u001b[39m=\u001b[39m \u001b[39m20\u001b[39m  \u001b[39m# Set batch size\u001b[39;00m\n\u001b[0;32m---> <a href='vscode-notebook-cell://idamariasof-mildewdetec-vx9w4hgykoj.ws-eu114.gitpod.io/workspace/mildew-detection/jupyter_notebooks/Modelling%20and%20Evaluating.ipynb#X41sdnNjb2RlLXJlbW90ZQ%3D%3D?line=12'>13</a>\u001b[0m train_set \u001b[39m=\u001b[39m augmented_image_data\u001b[39m.\u001b[39;49mflow_from_directory(train_path,\n\u001b[1;32m     <a href='vscode-notebook-cell://idamariasof-mildewdetec-vx9w4hgykoj.ws-eu114.gitpod.io/workspace/mildew-detection/jupyter_notebooks/Modelling%20and%20Evaluating.ipynb#X41sdnNjb2RlLXJlbW90ZQ%3D%3D?line=13'>14</a>\u001b[0m                                                      target_size\u001b[39m=\u001b[39;49mimage_shape[:\u001b[39m2\u001b[39;49m],\n\u001b[1;32m     <a href='vscode-notebook-cell://idamariasof-mildewdetec-vx9w4hgykoj.ws-eu114.gitpod.io/workspace/mildew-detection/jupyter_notebooks/Modelling%20and%20Evaluating.ipynb#X41sdnNjb2RlLXJlbW90ZQ%3D%3D?line=14'>15</a>\u001b[0m                                                      color_mode\u001b[39m=\u001b[39;49m\u001b[39m'\u001b[39;49m\u001b[39mrgb\u001b[39;49m\u001b[39m'\u001b[39;49m,\n\u001b[1;32m     <a href='vscode-notebook-cell://idamariasof-mildewdetec-vx9w4hgykoj.ws-eu114.gitpod.io/workspace/mildew-detection/jupyter_notebooks/Modelling%20and%20Evaluating.ipynb#X41sdnNjb2RlLXJlbW90ZQ%3D%3D?line=15'>16</a>\u001b[0m                                                      batch_size\u001b[39m=\u001b[39;49mbatch_size,\n\u001b[1;32m     <a href='vscode-notebook-cell://idamariasof-mildewdetec-vx9w4hgykoj.ws-eu114.gitpod.io/workspace/mildew-detection/jupyter_notebooks/Modelling%20and%20Evaluating.ipynb#X41sdnNjb2RlLXJlbW90ZQ%3D%3D?line=16'>17</a>\u001b[0m                                                      class_mode\u001b[39m=\u001b[39;49m\u001b[39m'\u001b[39;49m\u001b[39mbinary\u001b[39;49m\u001b[39m'\u001b[39;49m,\n\u001b[1;32m     <a href='vscode-notebook-cell://idamariasof-mildewdetec-vx9w4hgykoj.ws-eu114.gitpod.io/workspace/mildew-detection/jupyter_notebooks/Modelling%20and%20Evaluating.ipynb#X41sdnNjb2RlLXJlbW90ZQ%3D%3D?line=17'>18</a>\u001b[0m                                                      shuffle\u001b[39m=\u001b[39;49m\u001b[39mTrue\u001b[39;49;00m\n\u001b[1;32m     <a href='vscode-notebook-cell://idamariasof-mildewdetec-vx9w4hgykoj.ws-eu114.gitpod.io/workspace/mildew-detection/jupyter_notebooks/Modelling%20and%20Evaluating.ipynb#X41sdnNjb2RlLXJlbW90ZQ%3D%3D?line=18'>19</a>\u001b[0m                                                      )\n\u001b[1;32m     <a href='vscode-notebook-cell://idamariasof-mildewdetec-vx9w4hgykoj.ws-eu114.gitpod.io/workspace/mildew-detection/jupyter_notebooks/Modelling%20and%20Evaluating.ipynb#X41sdnNjb2RlLXJlbW90ZQ%3D%3D?line=20'>21</a>\u001b[0m validation_set \u001b[39m=\u001b[39m ImageDataGenerator(rescale\u001b[39m=\u001b[39m\u001b[39m1.\u001b[39m\u001b[39m/\u001b[39m\u001b[39m255\u001b[39m)\u001b[39m.\u001b[39mflow_from_directory(val_path,\n\u001b[1;32m     <a href='vscode-notebook-cell://idamariasof-mildewdetec-vx9w4hgykoj.ws-eu114.gitpod.io/workspace/mildew-detection/jupyter_notebooks/Modelling%20and%20Evaluating.ipynb#X41sdnNjb2RlLXJlbW90ZQ%3D%3D?line=21'>22</a>\u001b[0m                                                                         target_size\u001b[39m=\u001b[39mimage_shape[:\u001b[39m2\u001b[39m],\n\u001b[1;32m     <a href='vscode-notebook-cell://idamariasof-mildewdetec-vx9w4hgykoj.ws-eu114.gitpod.io/workspace/mildew-detection/jupyter_notebooks/Modelling%20and%20Evaluating.ipynb#X41sdnNjb2RlLXJlbW90ZQ%3D%3D?line=22'>23</a>\u001b[0m                                                                         color_mode\u001b[39m=\u001b[39m\u001b[39m'\u001b[39m\u001b[39mrgb\u001b[39m\u001b[39m'\u001b[39m,\n\u001b[0;32m   (...)\u001b[0m\n\u001b[1;32m     <a href='vscode-notebook-cell://idamariasof-mildewdetec-vx9w4hgykoj.ws-eu114.gitpod.io/workspace/mildew-detection/jupyter_notebooks/Modelling%20and%20Evaluating.ipynb#X41sdnNjb2RlLXJlbW90ZQ%3D%3D?line=25'>26</a>\u001b[0m                                                                         shuffle\u001b[39m=\u001b[39m\u001b[39mFalse\u001b[39;00m\n\u001b[1;32m     <a href='vscode-notebook-cell://idamariasof-mildewdetec-vx9w4hgykoj.ws-eu114.gitpod.io/workspace/mildew-detection/jupyter_notebooks/Modelling%20and%20Evaluating.ipynb#X41sdnNjb2RlLXJlbW90ZQ%3D%3D?line=26'>27</a>\u001b[0m                                                                         )\n\u001b[1;32m     <a href='vscode-notebook-cell://idamariasof-mildewdetec-vx9w4hgykoj.ws-eu114.gitpod.io/workspace/mildew-detection/jupyter_notebooks/Modelling%20and%20Evaluating.ipynb#X41sdnNjb2RlLXJlbW90ZQ%3D%3D?line=28'>29</a>\u001b[0m test_set \u001b[39m=\u001b[39m ImageDataGenerator(rescale\u001b[39m=\u001b[39m\u001b[39m1.\u001b[39m\u001b[39m/\u001b[39m\u001b[39m255\u001b[39m)\u001b[39m.\u001b[39mflow_from_directory(test_path,\n\u001b[1;32m     <a href='vscode-notebook-cell://idamariasof-mildewdetec-vx9w4hgykoj.ws-eu114.gitpod.io/workspace/mildew-detection/jupyter_notebooks/Modelling%20and%20Evaluating.ipynb#X41sdnNjb2RlLXJlbW90ZQ%3D%3D?line=29'>30</a>\u001b[0m                                                                   target_size\u001b[39m=\u001b[39mimage_shape[:\u001b[39m2\u001b[39m],\n\u001b[1;32m     <a href='vscode-notebook-cell://idamariasof-mildewdetec-vx9w4hgykoj.ws-eu114.gitpod.io/workspace/mildew-detection/jupyter_notebooks/Modelling%20and%20Evaluating.ipynb#X41sdnNjb2RlLXJlbW90ZQ%3D%3D?line=30'>31</a>\u001b[0m                                                                   color_mode\u001b[39m=\u001b[39m\u001b[39m'\u001b[39m\u001b[39mrgb\u001b[39m\u001b[39m'\u001b[39m,\n\u001b[0;32m   (...)\u001b[0m\n\u001b[1;32m     <a href='vscode-notebook-cell://idamariasof-mildewdetec-vx9w4hgykoj.ws-eu114.gitpod.io/workspace/mildew-detection/jupyter_notebooks/Modelling%20and%20Evaluating.ipynb#X41sdnNjb2RlLXJlbW90ZQ%3D%3D?line=33'>34</a>\u001b[0m                                                                   shuffle\u001b[39m=\u001b[39m\u001b[39mFalse\u001b[39;00m\n\u001b[1;32m     <a href='vscode-notebook-cell://idamariasof-mildewdetec-vx9w4hgykoj.ws-eu114.gitpod.io/workspace/mildew-detection/jupyter_notebooks/Modelling%20and%20Evaluating.ipynb#X41sdnNjb2RlLXJlbW90ZQ%3D%3D?line=34'>35</a>\u001b[0m                                                                   )\n",
            "File \u001b[0;32m/workspace/.pip-modules/lib/python3.8/site-packages/keras/preprocessing/image.py:976\u001b[0m, in \u001b[0;36mImageDataGenerator.flow_from_directory\u001b[0;34m(self, directory, target_size, color_mode, classes, class_mode, batch_size, shuffle, seed, save_to_dir, save_prefix, save_format, follow_links, subset, interpolation)\u001b[0m\n\u001b[1;32m    898\u001b[0m \u001b[39mdef\u001b[39;00m \u001b[39mflow_from_directory\u001b[39m(\u001b[39mself\u001b[39m,\n\u001b[1;32m    899\u001b[0m                         directory,\n\u001b[1;32m    900\u001b[0m                         target_size\u001b[39m=\u001b[39m(\u001b[39m256\u001b[39m, \u001b[39m256\u001b[39m),\n\u001b[0;32m   (...)\u001b[0m\n\u001b[1;32m    911\u001b[0m                         subset\u001b[39m=\u001b[39m\u001b[39mNone\u001b[39;00m,\n\u001b[1;32m    912\u001b[0m                         interpolation\u001b[39m=\u001b[39m\u001b[39m'\u001b[39m\u001b[39mnearest\u001b[39m\u001b[39m'\u001b[39m):\n\u001b[1;32m    913\u001b[0m \u001b[39m  \u001b[39m\u001b[39m\"\"\"Takes the path to a directory & generates batches of augmented data.\u001b[39;00m\n\u001b[1;32m    914\u001b[0m \n\u001b[1;32m    915\u001b[0m \u001b[39m  Args:\u001b[39;00m\n\u001b[0;32m   (...)\u001b[0m\n\u001b[1;32m    974\u001b[0m \u001b[39m          and `y` is a numpy array of corresponding labels.\u001b[39;00m\n\u001b[1;32m    975\u001b[0m \u001b[39m  \"\"\"\u001b[39;00m\n\u001b[0;32m--> 976\u001b[0m   \u001b[39mreturn\u001b[39;00m DirectoryIterator(\n\u001b[1;32m    977\u001b[0m       directory,\n\u001b[1;32m    978\u001b[0m       \u001b[39mself\u001b[39;49m,\n\u001b[1;32m    979\u001b[0m       target_size\u001b[39m=\u001b[39;49mtarget_size,\n\u001b[1;32m    980\u001b[0m       color_mode\u001b[39m=\u001b[39;49mcolor_mode,\n\u001b[1;32m    981\u001b[0m       classes\u001b[39m=\u001b[39;49mclasses,\n\u001b[1;32m    982\u001b[0m       class_mode\u001b[39m=\u001b[39;49mclass_mode,\n\u001b[1;32m    983\u001b[0m       data_format\u001b[39m=\u001b[39;49m\u001b[39mself\u001b[39;49m\u001b[39m.\u001b[39;49mdata_format,\n\u001b[1;32m    984\u001b[0m       batch_size\u001b[39m=\u001b[39;49mbatch_size,\n\u001b[1;32m    985\u001b[0m       shuffle\u001b[39m=\u001b[39;49mshuffle,\n\u001b[1;32m    986\u001b[0m       seed\u001b[39m=\u001b[39;49mseed,\n\u001b[1;32m    987\u001b[0m       save_to_dir\u001b[39m=\u001b[39;49msave_to_dir,\n\u001b[1;32m    988\u001b[0m       save_prefix\u001b[39m=\u001b[39;49msave_prefix,\n\u001b[1;32m    989\u001b[0m       save_format\u001b[39m=\u001b[39;49msave_format,\n\u001b[1;32m    990\u001b[0m       follow_links\u001b[39m=\u001b[39;49mfollow_links,\n\u001b[1;32m    991\u001b[0m       subset\u001b[39m=\u001b[39;49msubset,\n\u001b[1;32m    992\u001b[0m       interpolation\u001b[39m=\u001b[39;49minterpolation)\n",
            "File \u001b[0;32m/workspace/.pip-modules/lib/python3.8/site-packages/keras/preprocessing/image.py:394\u001b[0m, in \u001b[0;36mDirectoryIterator.__init__\u001b[0;34m(self, directory, image_data_generator, target_size, color_mode, classes, class_mode, batch_size, shuffle, seed, data_format, save_to_dir, save_prefix, save_format, follow_links, subset, interpolation, dtype)\u001b[0m\n\u001b[1;32m    392\u001b[0m     dtype \u001b[39m=\u001b[39m backend\u001b[39m.\u001b[39mfloatx()\n\u001b[1;32m    393\u001b[0m   kwargs[\u001b[39m'\u001b[39m\u001b[39mdtype\u001b[39m\u001b[39m'\u001b[39m] \u001b[39m=\u001b[39m dtype\n\u001b[0;32m--> 394\u001b[0m \u001b[39msuper\u001b[39;49m(DirectoryIterator, \u001b[39mself\u001b[39;49m)\u001b[39m.\u001b[39;49m\u001b[39m__init__\u001b[39;49m(\n\u001b[1;32m    395\u001b[0m     directory, image_data_generator,\n\u001b[1;32m    396\u001b[0m     target_size\u001b[39m=\u001b[39;49mtarget_size,\n\u001b[1;32m    397\u001b[0m     color_mode\u001b[39m=\u001b[39;49mcolor_mode,\n\u001b[1;32m    398\u001b[0m     classes\u001b[39m=\u001b[39;49mclasses,\n\u001b[1;32m    399\u001b[0m     class_mode\u001b[39m=\u001b[39;49mclass_mode,\n\u001b[1;32m    400\u001b[0m     batch_size\u001b[39m=\u001b[39;49mbatch_size,\n\u001b[1;32m    401\u001b[0m     shuffle\u001b[39m=\u001b[39;49mshuffle,\n\u001b[1;32m    402\u001b[0m     seed\u001b[39m=\u001b[39;49mseed,\n\u001b[1;32m    403\u001b[0m     data_format\u001b[39m=\u001b[39;49mdata_format,\n\u001b[1;32m    404\u001b[0m     save_to_dir\u001b[39m=\u001b[39;49msave_to_dir,\n\u001b[1;32m    405\u001b[0m     save_prefix\u001b[39m=\u001b[39;49msave_prefix,\n\u001b[1;32m    406\u001b[0m     save_format\u001b[39m=\u001b[39;49msave_format,\n\u001b[1;32m    407\u001b[0m     follow_links\u001b[39m=\u001b[39;49mfollow_links,\n\u001b[1;32m    408\u001b[0m     subset\u001b[39m=\u001b[39;49msubset,\n\u001b[1;32m    409\u001b[0m     interpolation\u001b[39m=\u001b[39;49minterpolation,\n\u001b[1;32m    410\u001b[0m     \u001b[39m*\u001b[39;49m\u001b[39m*\u001b[39;49mkwargs)\n",
            "File \u001b[0;32m/workspace/.pip-modules/lib/python3.8/site-packages/keras_preprocessing/image/directory_iterator.py:115\u001b[0m, in \u001b[0;36mDirectoryIterator.__init__\u001b[0;34m(self, directory, image_data_generator, target_size, color_mode, classes, class_mode, batch_size, shuffle, seed, data_format, save_to_dir, save_prefix, save_format, follow_links, subset, interpolation, dtype)\u001b[0m\n\u001b[1;32m    113\u001b[0m \u001b[39mif\u001b[39;00m \u001b[39mnot\u001b[39;00m classes:\n\u001b[1;32m    114\u001b[0m     classes \u001b[39m=\u001b[39m []\n\u001b[0;32m--> 115\u001b[0m     \u001b[39mfor\u001b[39;00m subdir \u001b[39min\u001b[39;00m \u001b[39msorted\u001b[39m(os\u001b[39m.\u001b[39;49mlistdir(directory)):\n\u001b[1;32m    116\u001b[0m         \u001b[39mif\u001b[39;00m os\u001b[39m.\u001b[39mpath\u001b[39m.\u001b[39misdir(os\u001b[39m.\u001b[39mpath\u001b[39m.\u001b[39mjoin(directory, subdir)):\n\u001b[1;32m    117\u001b[0m             classes\u001b[39m.\u001b[39mappend(subdir)\n",
            "\u001b[0;31mTypeError\u001b[0m: listdir: path should be string, bytes, os.PathLike, integer or None, not Series"
          ]
        }
      ],
      "source": [
        "augmented_image_data = ImageDataGenerator(rotation_range=20,\n",
        "                                          width_shift_range=0.10,\n",
        "                                          height_shift_range=0.10,\n",
        "                                          shear_range=0.1,\n",
        "                                          zoom_range=0.1,\n",
        "                                          horizontal_flip=True,\n",
        "                                          vertical_flip=True,\n",
        "                                          fill_mode='nearest',\n",
        "                                          rescale=1./255\n",
        "                                          )\n",
        "\n",
        "batch_size = 20  # Set batch size\n",
        "train_set = augmented_image_data.flow_from_directory(train_path,\n",
        "                                                     target_size=image_shape[:2],\n",
        "                                                     color_mode='rgb',\n",
        "                                                     batch_size=batch_size,\n",
        "                                                     class_mode='binary',\n",
        "                                                     shuffle=True\n",
        "                                                     )\n",
        "\n",
        "validation_set = ImageDataGenerator(rescale=1./255).flow_from_directory(val_path,\n",
        "                                                                        target_size=image_shape[:2],\n",
        "                                                                        color_mode='rgb',\n",
        "                                                                        batch_size=batch_size,\n",
        "                                                                        class_mode='binary',\n",
        "                                                                        shuffle=False\n",
        "                                                                        )\n",
        "\n",
        "test_set = ImageDataGenerator(rescale=1./255).flow_from_directory(test_path,\n",
        "                                                                  target_size=image_shape[:2],\n",
        "                                                                  color_mode='rgb',\n",
        "                                                                  batch_size=batch_size,\n",
        "                                                                  class_mode='binary',\n",
        "                                                                  shuffle=False\n",
        "                                                                  )\n",
        "\n",
        "# Plot augmented training image\n",
        "for _ in range(3):\n",
        "    img, label = train_set.next()\n",
        "    print(img.shape)  # (1,256,256,3)\n",
        "    plt.imshow(img[0])\n",
        "    plt.show()\n",
        "# Plot augmented validation and test images\n",
        "for _ in range(3):\n",
        "    img, label = validation_set.next()\n",
        "    print(img.shape)  # (1,256,256,3)\n",
        "    plt.imshow(img[0])\n",
        "    plt.show()\n",
        "for _ in range(3):\n",
        "    img, label = test_set.next()\n",
        "    print(img.shape)  # (1,256,256,3)\n",
        "    plt.imshow(img[0])\n",
        "    plt.show()\n",
        "# Save class_indices\n",
        "joblib.dump(value=train_set.class_indices,\n",
        "            filename=f\"{file_path}/class_indices.pkl\")"
      ]
    },
    {
      "cell_type": "markdown",
      "metadata": {},
      "source": [
        "---"
      ]
    },
    {
      "cell_type": "markdown",
      "metadata": {},
      "source": [
        "# Model creation"
      ]
    },
    {
      "cell_type": "markdown",
      "metadata": {},
      "source": [
        "---"
      ]
    },
    {
      "cell_type": "markdown",
      "metadata": {},
      "source": [
        "## ML Model"
      ]
    },
    {
      "cell_type": "markdown",
      "metadata": {},
      "source": [
        "### Import model packages"
      ]
    },
    {
      "cell_type": "code",
      "execution_count": null,
      "metadata": {},
      "outputs": [],
      "source": [
        "from tensorflow.keras.models import Sequential\n",
        "from tensorflow.keras.layers import Activation, Dropout, Flatten, Dense, Conv2D, MaxPooling2D"
      ]
    },
    {
      "cell_type": "markdown",
      "metadata": {},
      "source": [
        "## Model"
      ]
    },
    {
      "cell_type": "code",
      "execution_count": null,
      "metadata": {},
      "outputs": [],
      "source": [
        "def create_tf_model():\n",
        "    model = Sequential()\n",
        "\n",
        "    model.add(Conv2D(filters=32, kernel_size=(3, 3),\n",
        "              input_shape=image_shape, activation='relu', ))\n",
        "    model.add(MaxPooling2D(pool_size=(2, 2)))\n",
        "\n",
        "    model.add(Conv2D(filters=64, kernel_size=(3, 3),\n",
        "              input_shape=image_shape, activation='relu', ))\n",
        "    model.add(MaxPooling2D(pool_size=(2, 2)))\n",
        "\n",
        "    model.add(Conv2D(filters=64, kernel_size=(3, 3),\n",
        "              input_shape=image_shape, activation='relu', ))\n",
        "    model.add(MaxPooling2D(pool_size=(2, 2)))\n",
        "\n",
        "    model.add(Flatten())\n",
        "    model.add(Dense(128, activation='relu'))\n",
        "\n",
        "    model.add(Dropout(0.5))\n",
        "    model.add(Dense(1, activation='sigmoid'))\n",
        "\n",
        "    model.compile(loss='binary_crossentropy',\n",
        "                  optimizer='adam',\n",
        "                  metrics=['accuracy'])\n",
        "\n",
        "    return model"
      ]
    },
    {
      "cell_type": "markdown",
      "metadata": {},
      "source": [
        "### Model Summary"
      ]
    },
    {
      "cell_type": "code",
      "execution_count": null,
      "metadata": {},
      "outputs": [],
      "source": [
        "create_tf_model().summary()"
      ]
    },
    {
      "cell_type": "markdown",
      "metadata": {},
      "source": [
        "### Early stopping"
      ]
    },
    {
      "cell_type": "code",
      "execution_count": null,
      "metadata": {},
      "outputs": [],
      "source": [
        "from tensorflow.keras.callbacks import EarlyStopping\n",
        "early_stop = EarlyStopping(monitor='val_loss', patience=3)"
      ]
    },
    {
      "cell_type": "markdown",
      "metadata": {},
      "source": [
        "## Fit model for model training"
      ]
    },
    {
      "cell_type": "code",
      "execution_count": null,
      "metadata": {},
      "outputs": [],
      "source": [
        "model = create_tf_model()\n",
        "model.fit(train_set,\n",
        "          epochs=25,\n",
        "          steps_per_epoch=len(train_set.classes) // batch_size,\n",
        "          validation_data=validation_set,\n",
        "          callbacks=[early_stop],\n",
        "          verbose=1\n",
        "          )"
      ]
    },
    {
      "cell_type": "markdown",
      "metadata": {},
      "source": [
        "## Plot augmented training image"
      ]
    },
    {
      "cell_type": "code",
      "execution_count": null,
      "metadata": {},
      "outputs": [],
      "source": [
        "for _ in range(3):\n",
        "    img, label = train_set.next()\n",
        "    print(img.shape)  # (1,256,256,3)\n",
        "    plt.imshow(img[0])\n",
        "    plt.show()"
      ]
    },
    {
      "cell_type": "markdown",
      "metadata": {},
      "source": [
        "## Save model"
      ]
    },
    {
      "cell_type": "code",
      "execution_count": null,
      "metadata": {},
      "outputs": [],
      "source": [
        "\n",
        "model.save('outputs/v1/malaria_detector_model.h5')"
      ]
    },
    {
      "cell_type": "markdown",
      "metadata": {},
      "source": [
        "---"
      ]
    },
    {
      "cell_type": "markdown",
      "metadata": {},
      "source": [
        "# Model Performace"
      ]
    },
    {
      "cell_type": "markdown",
      "metadata": {},
      "source": [
        "---"
      ]
    },
    {
      "cell_type": "markdown",
      "metadata": {},
      "source": [
        "## Model learning curve"
      ]
    },
    {
      "cell_type": "code",
      "execution_count": null,
      "metadata": {},
      "outputs": [],
      "source": [
        "losses = pd.DataFrame(model.history.history)\n",
        "\n",
        "sns.set_style(\"whitegrid\")\n",
        "losses[['loss', 'val_loss']].plot(style='.-')\n",
        "plt.title(\"Loss\")\n",
        "plt.savefig(f'{file_path}/model_training_losses.png',\n",
        "            bbox_inches='tight', dpi=150)\n",
        "plt.show()\n",
        "\n",
        "print(\"\\n\")\n",
        "losses[['accuracy', 'val_accuracy']].plot(style='.-')\n",
        "plt.title(\"Accuracy\")\n",
        "plt.savefig(f'{file_path}/model_training_acc.png',\n",
        "            bbox_inches='tight', dpi=150)\n",
        "plt.show()"
      ]
    },
    {
      "cell_type": "markdown",
      "metadata": {},
      "source": [
        "## Model Evaluation"
      ]
    },
    {
      "cell_type": "code",
      "execution_count": null,
      "metadata": {},
      "outputs": [],
      "source": [
        "from keras.models import load_model\n",
        "model = load_model('outputs/v1/mildew_detection_model.h5')"
      ]
    },
    {
      "cell_type": "markdown",
      "metadata": {},
      "source": [
        "Evaluate model on test set"
      ]
    },
    {
      "cell_type": "markdown",
      "metadata": {},
      "source": [
        "### Save evaluation pickle"
      ]
    },
    {
      "cell_type": "code",
      "execution_count": null,
      "metadata": {},
      "outputs": [],
      "source": [
        "joblib.dump(value=evaluation,\n",
        "            filename=f\"outputs/v1/evaluation.pkl\")"
      ]
    },
    {
      "cell_type": "markdown",
      "metadata": {},
      "source": [
        "## Predict on new data"
      ]
    },
    {
      "cell_type": "markdown",
      "metadata": {},
      "source": [
        "Load a random image as PIL"
      ]
    },
    {
      "cell_type": "code",
      "execution_count": null,
      "metadata": {},
      "outputs": [],
      "source": [
        "from tensorflow.keras.preprocessing import image\n",
        "\n",
        "pointer = 66\n",
        "label = labels[0]  # select Uninfected or Parasitised\n",
        "\n",
        "pil_image = image.load_img(test_path + '/' + label + '/' + os.listdir(test_path+'/' + label)[pointer],\n",
        "                           target_size=image_shape, color_mode='rgb')\n",
        "print(f'Image shape: {pil_image.size}, Image mode: {pil_image.mode}')\n",
        "pil_image"
      ]
    },
    {
      "cell_type": "markdown",
      "metadata": {},
      "source": [
        "Convert image to array and prepare for prediction"
      ]
    },
    {
      "cell_type": "code",
      "execution_count": null,
      "metadata": {},
      "outputs": [],
      "source": [
        "my_image = image.img_to_array(pil_image)\n",
        "my_image = np.expand_dims(my_image, axis=0)/255\n",
        "print(my_image.shape)"
      ]
    },
    {
      "cell_type": "markdown",
      "metadata": {},
      "source": [
        "Predict class probabilities"
      ]
    },
    {
      "cell_type": "code",
      "execution_count": null,
      "metadata": {},
      "outputs": [],
      "source": [
        "pred_proba = model.predict(my_image)[0, 0]\n",
        "\n",
        "target_map = {v: k for k, v in train_set.class_indices.items()}\n",
        "pred_class = target_map[pred_proba > 0.5]\n",
        "\n",
        "if pred_class == target_map[0]:\n",
        "    pred_proba = 1 - pred_proba\n",
        "\n",
        "print(pred_proba)\n",
        "print(pred_class)"
      ]
    },
    {
      "cell_type": "markdown",
      "metadata": {
        "id": "ltNetd085qHf"
      },
      "source": [
        "# Push files to Repo"
      ]
    },
    {
      "cell_type": "markdown",
      "metadata": {},
      "source": [
        "* If you don't need to push files to Repo, you may replace this section with \"Conclusions and Next Steps\" and state your conclusions and next steps."
      ]
    },
    {
      "cell_type": "code",
      "execution_count": null,
      "metadata": {
        "id": "aKlnIozA4eQO",
        "outputId": "fd09bc1f-adb1-4511-f6ce-492a6af570c0"
      },
      "outputs": [],
      "source": [
        "import os\n",
        "try:\n",
        "    # create here your folder\n",
        "    # os.makedirs(name='')\n",
        "except Exception as e:\n",
        "    print(e)\n"
      ]
    }
  ],
  "metadata": {
    "accelerator": "GPU",
    "colab": {
      "name": "Data Practitioner Jupyter Notebook.ipynb",
      "provenance": [],
      "toc_visible": true
    },
    "interpreter": {
      "hash": "8b8334dab9339717f727a1deaf837b322d7a41c20d15cc86be99a8e69ceec8ce"
    },
    "kernelspec": {
      "display_name": "Python 3.8.12 64-bit ('3.8.12': pyenv)",
      "name": "python3"
    },
    "language_info": {
      "codemirror_mode": {
        "name": "ipython",
        "version": 3
      },
      "file_extension": ".py",
      "mimetype": "text/x-python",
      "name": "python",
      "nbconvert_exporter": "python",
      "pygments_lexer": "ipython3",
      "version": "3.8.18"
    },
    "orig_nbformat": 2
  },
  "nbformat": 4,
  "nbformat_minor": 2
}
