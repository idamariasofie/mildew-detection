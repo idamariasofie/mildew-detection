{
  "cells": [
    {
      "cell_type": "markdown",
      "metadata": {
        "id": "0aStgWSO0E0E"
      },
      "source": [
        "# **Data Preparation**"
      ]
    },
    {
      "cell_type": "markdown",
      "metadata": {
        "id": "1eLEkw5O0ECa"
      },
      "source": [
        "## Objectives\n",
        "\n",
        "* Clean and prepare the data set for further processes.\n",
        "\n",
        "* Split the data into train, validation, test sets. \n",
        "\n",
        "## Additional Comments\n",
        "\n",
        "* No additional comments.\n",
        "\n"
      ]
    },
    {
      "cell_type": "markdown",
      "metadata": {
        "id": "9uWZXH9LwoQg"
      },
      "source": [
        "---"
      ]
    },
    {
      "cell_type": "markdown",
      "metadata": {},
      "source": [
        "# Change the working directory"
      ]
    },
    {
      "cell_type": "code",
      "execution_count": 3,
      "metadata": {},
      "outputs": [],
      "source": [
        "import os"
      ]
    },
    {
      "cell_type": "code",
      "execution_count": 4,
      "metadata": {
        "id": "wZfF_j-Bz3i4",
        "outputId": "66943449-1436-4c3d-85c7-b85f9f78349b"
      },
      "outputs": [
        {
          "data": {
            "text/plain": [
              "'/workspace/mildew-detection/jupyter_notebooks'"
            ]
          },
          "execution_count": 4,
          "metadata": {},
          "output_type": "execute_result"
        }
      ],
      "source": [
        "current_dir = os.getcwd()\n",
        "current_dir"
      ]
    },
    {
      "cell_type": "code",
      "execution_count": 5,
      "metadata": {
        "id": "TwHsQRWjz3i9",
        "outputId": "86849db3-cd2f-4cc5-ebb8-2d0caafa1a2c"
      },
      "outputs": [
        {
          "name": "stdout",
          "output_type": "stream",
          "text": [
            "You set a new current directory\n"
          ]
        }
      ],
      "source": [
        "os.chdir('/workspace/mildew-detection')\n",
        "print(\"You set a new current directory\")"
      ]
    },
    {
      "cell_type": "code",
      "execution_count": 6,
      "metadata": {
        "id": "vz3S-_kjz3jA",
        "outputId": "00b79ae4-75d0-4a96-d193-ac9ef9847ea2"
      },
      "outputs": [
        {
          "data": {
            "text/plain": [
              "'/workspace/mildew-detection'"
            ]
          },
          "execution_count": 6,
          "metadata": {},
          "output_type": "execute_result"
        }
      ],
      "source": [
        "current_dir = os.getcwd()\n",
        "current_dir"
      ]
    },
    {
      "cell_type": "markdown",
      "metadata": {},
      "source": [
        "---"
      ]
    },
    {
      "cell_type": "markdown",
      "metadata": {},
      "source": [
        "## Data cleaning"
      ]
    },
    {
      "cell_type": "markdown",
      "metadata": {},
      "source": [
        "In this section we will check for and remove dody and non-image files, so that the dataset only contains images with correct file types for further processes."
      ]
    },
    {
      "cell_type": "markdown",
      "metadata": {},
      "source": [
        "## Remove dodgy images"
      ]
    },
    {
      "cell_type": "code",
      "execution_count": 7,
      "metadata": {},
      "outputs": [
        {
          "ename": "ImportError",
          "evalue": "libGL.so.1: cannot open shared object file: No such file or directory",
          "output_type": "error",
          "traceback": [
            "\u001b[0;31m---------------------------------------------------------------------------\u001b[0m",
            "\u001b[0;31mImportError\u001b[0m                               Traceback (most recent call last)",
            "\u001b[1;32m/workspace/mildew-detection/jupyter_notebooks/DataPreparation.ipynb Cell 13\u001b[0m line \u001b[0;36m3\n\u001b[1;32m      <a href='vscode-notebook-cell://idamariasof-mildewdetec-vx9w4hgykoj.ws-eu114.gitpod.io/workspace/mildew-detection/jupyter_notebooks/DataPreparation.ipynb#X15sdnNjb2RlLXJlbW90ZQ%3D%3D?line=0'>1</a>\u001b[0m \u001b[39m# Code used to remove dody images, borrowed from nicknochnack - ImageClassification project. Combined with the non-image-remove section from Walkthrough project 1.\u001b[39;00m\n\u001b[0;32m----> <a href='vscode-notebook-cell://idamariasof-mildewdetec-vx9w4hgykoj.ws-eu114.gitpod.io/workspace/mildew-detection/jupyter_notebooks/DataPreparation.ipynb#X15sdnNjb2RlLXJlbW90ZQ%3D%3D?line=2'>3</a>\u001b[0m \u001b[39mimport\u001b[39;00m \u001b[39mcv2\u001b[39;00m\n\u001b[1;32m      <a href='vscode-notebook-cell://idamariasof-mildewdetec-vx9w4hgykoj.ws-eu114.gitpod.io/workspace/mildew-detection/jupyter_notebooks/DataPreparation.ipynb#X15sdnNjb2RlLXJlbW90ZQ%3D%3D?line=3'>4</a>\u001b[0m \u001b[39mimport\u001b[39;00m \u001b[39mos\u001b[39;00m\n\u001b[1;32m      <a href='vscode-notebook-cell://idamariasof-mildewdetec-vx9w4hgykoj.ws-eu114.gitpod.io/workspace/mildew-detection/jupyter_notebooks/DataPreparation.ipynb#X15sdnNjb2RlLXJlbW90ZQ%3D%3D?line=5'>6</a>\u001b[0m \u001b[39m# Function to remove non-image files\u001b[39;00m\n",
            "File \u001b[0;32m/workspace/.pip-modules/lib/python3.8/site-packages/cv2/__init__.py:181\u001b[0m\n\u001b[1;32m    176\u001b[0m             \u001b[39mif\u001b[39;00m DEBUG: \u001b[39mprint\u001b[39m(\u001b[39m\"\u001b[39m\u001b[39mExtra Python code for\u001b[39m\u001b[39m\"\u001b[39m, submodule, \u001b[39m\"\u001b[39m\u001b[39mis loaded\u001b[39m\u001b[39m\"\u001b[39m)\n\u001b[1;32m    178\u001b[0m     \u001b[39mif\u001b[39;00m DEBUG: \u001b[39mprint\u001b[39m(\u001b[39m'\u001b[39m\u001b[39mOpenCV loader: DONE\u001b[39m\u001b[39m'\u001b[39m)\n\u001b[0;32m--> 181\u001b[0m bootstrap()\n",
            "File \u001b[0;32m/workspace/.pip-modules/lib/python3.8/site-packages/cv2/__init__.py:153\u001b[0m, in \u001b[0;36mbootstrap\u001b[0;34m()\u001b[0m\n\u001b[1;32m    149\u001b[0m \u001b[39mif\u001b[39;00m DEBUG: \u001b[39mprint\u001b[39m(\u001b[39m\"\u001b[39m\u001b[39mRelink everything from native cv2 module to cv2 package\u001b[39m\u001b[39m\"\u001b[39m)\n\u001b[1;32m    151\u001b[0m py_module \u001b[39m=\u001b[39m sys\u001b[39m.\u001b[39mmodules\u001b[39m.\u001b[39mpop(\u001b[39m\"\u001b[39m\u001b[39mcv2\u001b[39m\u001b[39m\"\u001b[39m)\n\u001b[0;32m--> 153\u001b[0m native_module \u001b[39m=\u001b[39m importlib\u001b[39m.\u001b[39;49mimport_module(\u001b[39m\"\u001b[39;49m\u001b[39mcv2\u001b[39;49m\u001b[39m\"\u001b[39;49m)\n\u001b[1;32m    155\u001b[0m sys\u001b[39m.\u001b[39mmodules[\u001b[39m\"\u001b[39m\u001b[39mcv2\u001b[39m\u001b[39m\"\u001b[39m] \u001b[39m=\u001b[39m py_module\n\u001b[1;32m    156\u001b[0m \u001b[39msetattr\u001b[39m(py_module, \u001b[39m\"\u001b[39m\u001b[39m_native\u001b[39m\u001b[39m\"\u001b[39m, native_module)\n",
            "File \u001b[0;32m~/.pyenv/versions/3.8.18/lib/python3.8/importlib/__init__.py:127\u001b[0m, in \u001b[0;36mimport_module\u001b[0;34m(name, package)\u001b[0m\n\u001b[1;32m    125\u001b[0m             \u001b[39mbreak\u001b[39;00m\n\u001b[1;32m    126\u001b[0m         level \u001b[39m+\u001b[39m\u001b[39m=\u001b[39m \u001b[39m1\u001b[39m\n\u001b[0;32m--> 127\u001b[0m \u001b[39mreturn\u001b[39;00m _bootstrap\u001b[39m.\u001b[39;49m_gcd_import(name[level:], package, level)\n",
            "\u001b[0;31mImportError\u001b[0m: libGL.so.1: cannot open shared object file: No such file or directory"
          ]
        }
      ],
      "source": [
        "# Code used to remove dody images, borrowed from nicknochnack - ImageClassification project. Combined with the non-image-remove section from Walkthrough project 1.\n",
        "\n",
        "import cv2\n",
        "import os\n",
        "\n",
        "# Function to remove non-image files\n",
        "def remove_non_image_files(data_dir):\n",
        "    image_extension = ('.png', '.jpg', '.jpeg')\n",
        "    dataset_folders = ['healthy', 'powdery_mildew']  \n",
        "    for dataset_folder in dataset_folders:\n",
        "        folder_path = os.path.join(data_dir, dataset_folder)\n",
        "        if os.path.isdir(folder_path):\n",
        "            for file_name in os.listdir(folder_path):\n",
        "                file_path = os.path.join(folder_path, file_name)\n",
        "                if os.path.isfile(file_path):\n",
        "                    try:\n",
        "                        img = cv2.imread(file_path)\n",
        "                        if img is None:\n",
        "                            os.remove(file_path)  # Remove non-image file\n",
        "                    except Exception as e:\n",
        "                        print(f\"Issue with image {file_path}: {str(e)}\")\n",
        "                        os.remove(file_path)  # Remove non-image file\n",
        "            print(f\"Folder: {dataset_folder} - non-image files removed\")\n",
        "\n",
        "# Directory path containing the images\n",
        "data_dir = 'inputs/datasets'\n",
        "\n",
        "# Call the function to remove non-image files with the specified directory\n",
        "remove_non_image_files(data_dir)\n"
      ]
    },
    {
      "cell_type": "markdown",
      "metadata": {},
      "source": [
        "## Split train validation test sets"
      ]
    },
    {
      "cell_type": "markdown",
      "metadata": {},
      "source": [
        "* In this section we split the collected and cleaned data into train, validation and test sets into seperate folders. \n",
        "\n",
        "* The training set is divided into a 0.70 ratio of data.\n",
        "* The validation set is divided into a 0.10 ratio of data.\n",
        "* The test set is divided into a 0.20 ratio of data."
      ]
    },
    {
      "cell_type": "code",
      "execution_count": 7,
      "metadata": {},
      "outputs": [],
      "source": [
        "# Code from linx02 - genederpredictor project, used together with the Walkthrough 1 project section for Split train validation test sets. \n",
        "\n",
        "import os\n",
        "import shutil\n",
        "import random\n",
        "import joblib\n",
        "\n",
        "def split_images(data_dir, train_set_ratio, validation_set_ratio, test_set_ratio):\n",
        "\n",
        "    if train_set_ratio + validation_set_ratio + test_set_ratio != 1.0:\n",
        "        print(\"train_set_ratio + validation_set_ratio + test_set_ratio should sum to 1.0\")\n",
        "        return\n",
        "\n",
        "    # gets classes labels\n",
        "    labels = os.listdir(data_dir)  # gets the folder name\n",
        "    if 'test' in labels:\n",
        "        pass\n",
        "    else:\n",
        "        # create train, test folders with classes labels sub-folder\n",
        "        for folder in ['train', 'validation', 'test']:\n",
        "            for label in labels:\n",
        "                os.makedirs(name=data_dir + '/' + folder + '/' + label)\n",
        "\n",
        "        for label in labels:\n",
        "\n",
        "            files = os.listdir(data_dir + '/' + label)\n",
        "            random.shuffle(files)\n",
        "\n",
        "            train_set_files_qty = int(len(files) * train_set_ratio)\n",
        "            validation_set_files_qty = int(len(files) * validation_set_ratio)\n",
        "\n",
        "            count = 1\n",
        "            for file_name in files:\n",
        "                if count <= train_set_files_qty:\n",
        "                    # move a given file to the train set\n",
        "                    shutil.move(data_dir + '/' + label + '/' + file_name,\n",
        "                                data_dir + '/train/' + label + '/' + file_name)\n",
        "\n",
        "                elif count <= (train_set_files_qty + validation_set_files_qty):\n",
        "                    # move a given file to the validation set\n",
        "                    shutil.move(data_dir + '/' + label + '/' + file_name,\n",
        "                                data_dir + '/validation/' + label + '/' + file_name)\n",
        "\n",
        "                else:\n",
        "                    # move given file to test set\n",
        "                    shutil.move(data_dir + '/' + label + '/' + file_name,\n",
        "                                data_dir + '/test/' + label + '/' + file_name)\n",
        "\n",
        "                count += 1\n",
        "\n",
        "            os.rmdir(data_dir + '/' + label)"
      ]
    },
    {
      "cell_type": "code",
      "execution_count": 8,
      "metadata": {},
      "outputs": [],
      "source": [
        "split_images(data_dir=f\"inputs/datasets\",\n",
        "                                   train_set_ratio=0.7,\n",
        "                                   validation_set_ratio=0.1,\n",
        "                                   test_set_ratio=0.2\n",
        "                                   )"
      ]
    },
    {
      "cell_type": "markdown",
      "metadata": {},
      "source": [
        "## Create dataframes for train, validation and tests sets "
      ]
    },
    {
      "cell_type": "markdown",
      "metadata": {},
      "source": [
        "Creating DataFrames to represent each set and then proceed with further data processing. "
      ]
    },
    {
      "cell_type": "code",
      "execution_count": 2,
      "metadata": {},
      "outputs": [
        {
          "name": "stdout",
          "output_type": "stream",
          "text": [
            "Labels: ['healthy', 'powdery_mildew']\n",
            "Contents of healthy in /workspace/mildew-detection/inputs/datasets/train:\n",
            "Contents of powdery_mildew in /workspace/mildew-detection/inputs/datasets/train:\n",
            "Contents of healthy in /workspace/mildew-detection/inputs/datasets/validation:\n",
            "Contents of powdery_mildew in /workspace/mildew-detection/inputs/datasets/validation:\n",
            "Contents of healthy in /workspace/mildew-detection/inputs/datasets/test:\n",
            "Contents of powdery_mildew in /workspace/mildew-detection/inputs/datasets/test:\n",
            "\n",
            "Train DataFrame (First 5 files):\n",
            "Empty DataFrame\n",
            "Columns: [file_path, label]\n",
            "Index: []\n",
            "\n",
            "Validation DataFrame (First 5 files):\n",
            "Empty DataFrame\n",
            "Columns: [file_path, label]\n",
            "Index: []\n",
            "\n",
            "Test DataFrame (First 5 files):\n",
            "Empty DataFrame\n",
            "Columns: [file_path, label]\n",
            "Index: []\n"
          ]
        }
      ],
      "source": [
        "import os\n",
        "import pandas as pd\n",
        "\n",
        "# Define paths for train, validation, and test sets\n",
        "train_path = '/workspace/mildew-detection/inputs/datasets/train'\n",
        "validation_path = '/workspace/mildew-detection/inputs/datasets/validation'\n",
        "test_path = '/workspace/mildew-detection/inputs/datasets/test'\n",
        "\n",
        "# Function to create a DataFrame from a directory\n",
        "def create_dataframe(data_dir, labels):\n",
        "    data = []\n",
        "    for label in labels:\n",
        "        label_dir = os.path.join(data_dir, label)\n",
        "        print(f\"Contents of {label} in {data_dir}:\")  # Print label name only\n",
        "        for file_name in os.listdir(label_dir):\n",
        "            if file_name.endswith(('png', 'jpg', 'jpeg')):\n",
        "                file_path = os.path.join(label_dir, file_name)\n",
        "                data.append((file_path, label))\n",
        "                break  # Stop after printing the label name once\n",
        "    return pd.DataFrame(data, columns=['file_path', 'label'])\n",
        "\n",
        "# Get list of labels using the train directory\n",
        "labels = os.listdir(train_path)\n",
        "print(\"Labels:\", labels)  # Print the labels to ensure they are correctly identified\n",
        "\n",
        "# Create DataFrames for each set\n",
        "train_df = create_dataframe(train_path, labels)\n",
        "validation_df = create_dataframe(validation_path, labels)\n",
        "test_df = create_dataframe(test_path, labels)\n",
        "\n",
        "# Print the first few rows of each DataFrame to verify\n",
        "print(\"\\nTrain DataFrame (First 5 files):\")\n",
        "print(train_df.head(5)) \n",
        "\n",
        "print(\"\\nValidation DataFrame (First 5 files):\")\n",
        "print(validation_df.head(5))  \n",
        "\n",
        "print(\"\\nTest DataFrame (First 5 files):\")\n",
        "print(test_df.head(5))"
      ]
    },
    {
      "cell_type": "markdown",
      "metadata": {},
      "source": [
        "---"
      ]
    }
  ],
  "metadata": {
    "accelerator": "GPU",
    "colab": {
      "name": "Data Practitioner Jupyter Notebook.ipynb",
      "provenance": [],
      "toc_visible": true
    },
    "interpreter": {
      "hash": "8b8334dab9339717f727a1deaf837b322d7a41c20d15cc86be99a8e69ceec8ce"
    },
    "kernelspec": {
      "display_name": "Python 3.8.12 64-bit ('3.8.12': pyenv)",
      "name": "python3"
    },
    "language_info": {
      "codemirror_mode": {
        "name": "ipython",
        "version": 3
      },
      "file_extension": ".py",
      "mimetype": "text/x-python",
      "name": "python",
      "nbconvert_exporter": "python",
      "pygments_lexer": "ipython3",
      "version": "3.8.18"
    },
    "orig_nbformat": 2
  },
  "nbformat": 4,
  "nbformat_minor": 2
}
