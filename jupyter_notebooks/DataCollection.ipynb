{
  "cells": [
    {
      "cell_type": "markdown",
      "metadata": {
        "id": "0aStgWSO0E0E"
      },
      "source": [
        "# **Data Collection**"
      ]
    },
    {
      "cell_type": "markdown",
      "metadata": {
        "id": "1eLEkw5O0ECa"
      },
      "source": [
        "## Objectives\n",
        "\n",
        "* Create \"inputs\" folder in Root directory.\n",
        "\n",
        "* Download data set from Kaggle (https://www.kaggle.com/datasets/codeinstitute/cherry-leaves), unzip the file.\n",
        "\n",
        "* Create \"datasets\" folder and place inside \"inputs\" folder.\n",
        "\n",
        "* Place the two downloaded data sets folders \"healthy\" and \"powdery_mildew\", inside folder \"datasets\". \n",
        "\n",
        "* Import packages. \n",
        "\n",
        "## Outputs\n",
        "\n",
        "* Generate Dataset for further processes. \n",
        "\n",
        "## Additional Comments\n",
        "\n",
        "* No additional comments.\n",
        "\n"
      ]
    },
    {
      "cell_type": "markdown",
      "metadata": {
        "id": "9uWZXH9LwoQg"
      },
      "source": [
        "---"
      ]
    },
    {
      "cell_type": "markdown",
      "metadata": {
        "id": "-mavJ8DibrcQ"
      },
      "source": [
        "# Import packages"
      ]
    },
    {
      "cell_type": "code",
      "execution_count": 2,
      "metadata": {},
      "outputs": [
        {
          "name": "stdout",
          "output_type": "stream",
          "text": [
            "Requirement already satisfied: absl-py==0.15.0 in /workspace/.pip-modules/lib/python3.8/site-packages (from -r /workspace/mildew-detection/requirements.txt (line 1)) (0.15.0)\n",
            "Requirement already satisfied: altair==4.2.2 in /workspace/.pip-modules/lib/python3.8/site-packages (from -r /workspace/mildew-detection/requirements.txt (line 2)) (4.2.2)\n",
            "Requirement already satisfied: astor==0.8.1 in /workspace/.pip-modules/lib/python3.8/site-packages (from -r /workspace/mildew-detection/requirements.txt (line 3)) (0.8.1)\n",
            "Requirement already satisfied: astunparse==1.6.3 in /workspace/.pip-modules/lib/python3.8/site-packages (from -r /workspace/mildew-detection/requirements.txt (line 4)) (1.6.3)\n",
            "Requirement already satisfied: backports.zoneinfo==0.2.1 in /workspace/.pip-modules/lib/python3.8/site-packages (from -r /workspace/mildew-detection/requirements.txt (line 5)) (0.2.1)\n",
            "Requirement already satisfied: base58==2.1.1 in /workspace/.pip-modules/lib/python3.8/site-packages (from -r /workspace/mildew-detection/requirements.txt (line 6)) (2.1.1)\n",
            "Requirement already satisfied: blinker==1.8.1 in /workspace/.pip-modules/lib/python3.8/site-packages (from -r /workspace/mildew-detection/requirements.txt (line 7)) (1.8.1)\n",
            "Requirement already satisfied: cachetools==5.3.3 in /workspace/.pip-modules/lib/python3.8/site-packages (from -r /workspace/mildew-detection/requirements.txt (line 8)) (5.3.3)\n",
            "Requirement already satisfied: clang==5.0 in /workspace/.pip-modules/lib/python3.8/site-packages (from -r /workspace/mildew-detection/requirements.txt (line 9)) (5.0)\n",
            "Requirement already satisfied: click==7.1.2 in /workspace/.pip-modules/lib/python3.8/site-packages (from -r /workspace/mildew-detection/requirements.txt (line 10)) (7.1.2)\n",
            "Requirement already satisfied: cycler==0.12.1 in /workspace/.pip-modules/lib/python3.8/site-packages (from -r /workspace/mildew-detection/requirements.txt (line 11)) (0.12.1)\n",
            "Requirement already satisfied: entrypoints==0.4 in /workspace/.pip-modules/lib/python3.8/site-packages (from -r /workspace/mildew-detection/requirements.txt (line 12)) (0.4)\n",
            "Requirement already satisfied: flatbuffers==1.12 in /workspace/.pip-modules/lib/python3.8/site-packages (from -r /workspace/mildew-detection/requirements.txt (line 13)) (1.12)\n",
            "Requirement already satisfied: gast==0.4.0 in /workspace/.pip-modules/lib/python3.8/site-packages (from -r /workspace/mildew-detection/requirements.txt (line 14)) (0.4.0)\n",
            "Requirement already satisfied: gitdb==4.0.11 in /workspace/.pip-modules/lib/python3.8/site-packages (from -r /workspace/mildew-detection/requirements.txt (line 15)) (4.0.11)\n",
            "Requirement already satisfied: GitPython==3.1.43 in /workspace/.pip-modules/lib/python3.8/site-packages (from -r /workspace/mildew-detection/requirements.txt (line 16)) (3.1.43)\n",
            "Requirement already satisfied: google-auth==2.29.0 in /workspace/.pip-modules/lib/python3.8/site-packages (from -r /workspace/mildew-detection/requirements.txt (line 17)) (2.29.0)\n",
            "Requirement already satisfied: google-auth-oauthlib==1.0.0 in /workspace/.pip-modules/lib/python3.8/site-packages (from -r /workspace/mildew-detection/requirements.txt (line 18)) (1.0.0)\n",
            "Requirement already satisfied: google-pasta==0.2.0 in /workspace/.pip-modules/lib/python3.8/site-packages (from -r /workspace/mildew-detection/requirements.txt (line 19)) (0.2.0)\n",
            "Requirement already satisfied: grpcio==1.63.0 in /workspace/.pip-modules/lib/python3.8/site-packages (from -r /workspace/mildew-detection/requirements.txt (line 20)) (1.63.0)\n",
            "Requirement already satisfied: h5py==3.1.0 in /workspace/.pip-modules/lib/python3.8/site-packages (from -r /workspace/mildew-detection/requirements.txt (line 21)) (3.1.0)\n",
            "Requirement already satisfied: joblib==1.4.0 in /workspace/.pip-modules/lib/python3.8/site-packages (from -r /workspace/mildew-detection/requirements.txt (line 22)) (1.4.0)\n",
            "Requirement already satisfied: kaggle==1.5.12 in /workspace/.pip-modules/lib/python3.8/site-packages (from -r /workspace/mildew-detection/requirements.txt (line 23)) (1.5.12)\n",
            "Requirement already satisfied: keras==2.6.0 in /workspace/.pip-modules/lib/python3.8/site-packages (from -r /workspace/mildew-detection/requirements.txt (line 24)) (2.6.0)\n",
            "Requirement already satisfied: Keras-Preprocessing==1.1.2 in /workspace/.pip-modules/lib/python3.8/site-packages (from -r /workspace/mildew-detection/requirements.txt (line 25)) (1.1.2)\n",
            "Requirement already satisfied: kiwisolver==1.4.5 in /workspace/.pip-modules/lib/python3.8/site-packages (from -r /workspace/mildew-detection/requirements.txt (line 26)) (1.4.5)\n",
            "Requirement already satisfied: Markdown==3.6 in /workspace/.pip-modules/lib/python3.8/site-packages (from -r /workspace/mildew-detection/requirements.txt (line 27)) (3.6)\n",
            "Requirement already satisfied: matplotlib==3.3.1 in /workspace/.pip-modules/lib/python3.8/site-packages (from -r /workspace/mildew-detection/requirements.txt (line 28)) (3.3.1)\n",
            "Requirement already satisfied: numpy==1.19.2 in /workspace/.pip-modules/lib/python3.8/site-packages (from -r /workspace/mildew-detection/requirements.txt (line 29)) (1.19.2)\n",
            "Requirement already satisfied: oauthlib==3.2.2 in /workspace/.pip-modules/lib/python3.8/site-packages (from -r /workspace/mildew-detection/requirements.txt (line 30)) (3.2.2)\n",
            "Requirement already satisfied: opt-einsum==3.3.0 in /workspace/.pip-modules/lib/python3.8/site-packages (from -r /workspace/mildew-detection/requirements.txt (line 31)) (3.3.0)\n",
            "Requirement already satisfied: pandas==1.1.2 in /workspace/.pip-modules/lib/python3.8/site-packages (from -r /workspace/mildew-detection/requirements.txt (line 32)) (1.1.2)\n",
            "Requirement already satisfied: pillow==10.3.0 in /workspace/.pip-modules/lib/python3.8/site-packages (from -r /workspace/mildew-detection/requirements.txt (line 33)) (10.3.0)\n",
            "Requirement already satisfied: plotly==4.12.0 in /workspace/.pip-modules/lib/python3.8/site-packages (from -r /workspace/mildew-detection/requirements.txt (line 34)) (4.12.0)\n",
            "Requirement already satisfied: protobuf==3.20.0 in /workspace/.pip-modules/lib/python3.8/site-packages (from -r /workspace/mildew-detection/requirements.txt (line 35)) (3.20.0)\n",
            "Requirement already satisfied: pyarrow==16.0.0 in /workspace/.pip-modules/lib/python3.8/site-packages (from -r /workspace/mildew-detection/requirements.txt (line 36)) (16.0.0)\n",
            "Requirement already satisfied: pyasn1==0.6.0 in /workspace/.pip-modules/lib/python3.8/site-packages (from -r /workspace/mildew-detection/requirements.txt (line 37)) (0.6.0)\n",
            "Requirement already satisfied: pyasn1_modules==0.4.0 in /workspace/.pip-modules/lib/python3.8/site-packages (from -r /workspace/mildew-detection/requirements.txt (line 38)) (0.4.0)\n",
            "Requirement already satisfied: pydeck==0.9.0 in /workspace/.pip-modules/lib/python3.8/site-packages (from -r /workspace/mildew-detection/requirements.txt (line 39)) (0.9.0)\n",
            "Requirement already satisfied: pyparsing==3.1.2 in /workspace/.pip-modules/lib/python3.8/site-packages (from -r /workspace/mildew-detection/requirements.txt (line 40)) (3.1.2)\n",
            "Requirement already satisfied: python-slugify==8.0.4 in /workspace/.pip-modules/lib/python3.8/site-packages (from -r /workspace/mildew-detection/requirements.txt (line 41)) (8.0.4)\n",
            "Requirement already satisfied: requests-oauthlib==2.0.0 in /workspace/.pip-modules/lib/python3.8/site-packages (from -r /workspace/mildew-detection/requirements.txt (line 42)) (2.0.0)\n",
            "Requirement already satisfied: retrying==1.3.4 in /workspace/.pip-modules/lib/python3.8/site-packages (from -r /workspace/mildew-detection/requirements.txt (line 43)) (1.3.4)\n",
            "Requirement already satisfied: rsa==4.9 in /workspace/.pip-modules/lib/python3.8/site-packages (from -r /workspace/mildew-detection/requirements.txt (line 44)) (4.9)\n",
            "Requirement already satisfied: scikit-learn==0.24.2 in /workspace/.pip-modules/lib/python3.8/site-packages (from -r /workspace/mildew-detection/requirements.txt (line 45)) (0.24.2)\n",
            "Requirement already satisfied: scipy==1.9.3 in /workspace/.pip-modules/lib/python3.8/site-packages (from -r /workspace/mildew-detection/requirements.txt (line 46)) (1.9.3)\n",
            "Requirement already satisfied: seaborn==0.11.0 in /workspace/.pip-modules/lib/python3.8/site-packages (from -r /workspace/mildew-detection/requirements.txt (line 47)) (0.11.0)\n",
            "Requirement already satisfied: six==1.15.0 in /workspace/.pip-modules/lib/python3.8/site-packages (from -r /workspace/mildew-detection/requirements.txt (line 48)) (1.15.0)\n",
            "Requirement already satisfied: smmap==5.0.1 in /workspace/.pip-modules/lib/python3.8/site-packages (from -r /workspace/mildew-detection/requirements.txt (line 49)) (5.0.1)\n",
            "Requirement already satisfied: streamlit==0.85.0 in /workspace/.pip-modules/lib/python3.8/site-packages (from -r /workspace/mildew-detection/requirements.txt (line 50)) (0.85.0)\n",
            "Requirement already satisfied: tensorboard==2.14.0 in /workspace/.pip-modules/lib/python3.8/site-packages (from -r /workspace/mildew-detection/requirements.txt (line 51)) (2.14.0)\n",
            "Requirement already satisfied: tensorboard-data-server==0.7.2 in /workspace/.pip-modules/lib/python3.8/site-packages (from -r /workspace/mildew-detection/requirements.txt (line 52)) (0.7.2)\n",
            "Requirement already satisfied: tensorflow-cpu==2.6.0 in /workspace/.pip-modules/lib/python3.8/site-packages (from -r /workspace/mildew-detection/requirements.txt (line 53)) (2.6.0)\n",
            "Requirement already satisfied: tensorflow-estimator==2.15.0 in /workspace/.pip-modules/lib/python3.8/site-packages (from -r /workspace/mildew-detection/requirements.txt (line 54)) (2.15.0)\n",
            "Requirement already satisfied: termcolor==1.1.0 in /workspace/.pip-modules/lib/python3.8/site-packages (from -r /workspace/mildew-detection/requirements.txt (line 55)) (1.1.0)\n",
            "Requirement already satisfied: text-unidecode==1.3 in /workspace/.pip-modules/lib/python3.8/site-packages (from -r /workspace/mildew-detection/requirements.txt (line 56)) (1.3)\n",
            "Requirement already satisfied: threadpoolctl==3.5.0 in /workspace/.pip-modules/lib/python3.8/site-packages (from -r /workspace/mildew-detection/requirements.txt (line 57)) (3.5.0)\n",
            "Requirement already satisfied: toml==0.10.2 in /workspace/.pip-modules/lib/python3.8/site-packages (from -r /workspace/mildew-detection/requirements.txt (line 58)) (0.10.2)\n",
            "Requirement already satisfied: toolz==0.12.1 in /workspace/.pip-modules/lib/python3.8/site-packages (from -r /workspace/mildew-detection/requirements.txt (line 59)) (0.12.1)\n",
            "Requirement already satisfied: tqdm==4.66.4 in /workspace/.pip-modules/lib/python3.8/site-packages (from -r /workspace/mildew-detection/requirements.txt (line 60)) (4.66.4)\n",
            "Requirement already satisfied: typing-extensions==3.7.4.3 in /workspace/.pip-modules/lib/python3.8/site-packages (from -r /workspace/mildew-detection/requirements.txt (line 61)) (3.7.4.3)\n",
            "Requirement already satisfied: tzlocal==5.2 in /workspace/.pip-modules/lib/python3.8/site-packages (from -r /workspace/mildew-detection/requirements.txt (line 62)) (5.2)\n",
            "Requirement already satisfied: validators==0.28.1 in /workspace/.pip-modules/lib/python3.8/site-packages (from -r /workspace/mildew-detection/requirements.txt (line 63)) (0.28.1)\n",
            "Requirement already satisfied: watchdog==4.0.0 in /workspace/.pip-modules/lib/python3.8/site-packages (from -r /workspace/mildew-detection/requirements.txt (line 64)) (4.0.0)\n",
            "Requirement already satisfied: Werkzeug==3.0.2 in /workspace/.pip-modules/lib/python3.8/site-packages (from -r /workspace/mildew-detection/requirements.txt (line 65)) (3.0.2)\n",
            "Requirement already satisfied: wrapt==1.12.1 in /workspace/.pip-modules/lib/python3.8/site-packages (from -r /workspace/mildew-detection/requirements.txt (line 66)) (1.12.1)\n",
            "Collecting opencv-python-headless==4.9.0.80 (from -r /workspace/mildew-detection/requirements.txt (line 67))\n",
            "  Downloading opencv_python_headless-4.9.0.80-cp37-abi3-manylinux_2_17_x86_64.manylinux2014_x86_64.whl.metadata (20 kB)\n",
            "Requirement already satisfied: jinja2 in /home/gitpod/.pyenv/versions/3.8.18/lib/python3.8/site-packages (from altair==4.2.2->-r /workspace/mildew-detection/requirements.txt (line 2)) (3.1.3)\n",
            "Requirement already satisfied: jsonschema>=3.0 in /home/gitpod/.pyenv/versions/3.8.18/lib/python3.8/site-packages (from altair==4.2.2->-r /workspace/mildew-detection/requirements.txt (line 2)) (4.21.1)\n",
            "Requirement already satisfied: wheel<1.0,>=0.23.0 in /home/gitpod/.pyenv/versions/3.8.18/lib/python3.8/site-packages (from astunparse==1.6.3->-r /workspace/mildew-detection/requirements.txt (line 4)) (0.43.0)\n",
            "Requirement already satisfied: certifi in /home/gitpod/.pyenv/versions/3.8.18/lib/python3.8/site-packages (from kaggle==1.5.12->-r /workspace/mildew-detection/requirements.txt (line 23)) (2024.2.2)\n",
            "Requirement already satisfied: python-dateutil in /home/gitpod/.pyenv/versions/3.8.18/lib/python3.8/site-packages (from kaggle==1.5.12->-r /workspace/mildew-detection/requirements.txt (line 23)) (2.9.0.post0)\n",
            "Requirement already satisfied: requests in /home/gitpod/.pyenv/versions/3.8.18/lib/python3.8/site-packages (from kaggle==1.5.12->-r /workspace/mildew-detection/requirements.txt (line 23)) (2.31.0)\n",
            "Requirement already satisfied: urllib3 in /home/gitpod/.pyenv/versions/3.8.18/lib/python3.8/site-packages (from kaggle==1.5.12->-r /workspace/mildew-detection/requirements.txt (line 23)) (2.2.1)\n",
            "Requirement already satisfied: importlib-metadata>=4.4 in /home/gitpod/.pyenv/versions/3.8.18/lib/python3.8/site-packages (from Markdown==3.6->-r /workspace/mildew-detection/requirements.txt (line 27)) (7.1.0)\n",
            "Requirement already satisfied: pytz>=2017.2 in /home/gitpod/.pyenv/versions/3.8.18/lib/python3.8/site-packages (from pandas==1.1.2->-r /workspace/mildew-detection/requirements.txt (line 32)) (2024.1)\n",
            "Requirement already satisfied: attrs in /home/gitpod/.pyenv/versions/3.8.18/lib/python3.8/site-packages (from streamlit==0.85.0->-r /workspace/mildew-detection/requirements.txt (line 50)) (23.2.0)\n",
            "Requirement already satisfied: packaging in /home/gitpod/.pyenv/versions/3.8.18/lib/python3.8/site-packages (from streamlit==0.85.0->-r /workspace/mildew-detection/requirements.txt (line 50)) (24.0)\n",
            "Requirement already satisfied: tornado>=5.0 in /home/gitpod/.pyenv/versions/3.8.18/lib/python3.8/site-packages (from streamlit==0.85.0->-r /workspace/mildew-detection/requirements.txt (line 50)) (6.4)\n",
            "Requirement already satisfied: setuptools>=41.0.0 in /home/gitpod/.pyenv/versions/3.8.18/lib/python3.8/site-packages (from tensorboard==2.14.0->-r /workspace/mildew-detection/requirements.txt (line 51)) (69.5.1)\n",
            "Requirement already satisfied: MarkupSafe>=2.1.1 in /home/gitpod/.pyenv/versions/3.8.18/lib/python3.8/site-packages (from Werkzeug==3.0.2->-r /workspace/mildew-detection/requirements.txt (line 65)) (2.1.5)\n",
            "Requirement already satisfied: zipp>=0.5 in /home/gitpod/.pyenv/versions/3.8.18/lib/python3.8/site-packages (from importlib-metadata>=4.4->Markdown==3.6->-r /workspace/mildew-detection/requirements.txt (line 27)) (3.18.1)\n",
            "Requirement already satisfied: importlib-resources>=1.4.0 in /home/gitpod/.pyenv/versions/3.8.18/lib/python3.8/site-packages (from jsonschema>=3.0->altair==4.2.2->-r /workspace/mildew-detection/requirements.txt (line 2)) (6.4.0)\n",
            "Requirement already satisfied: jsonschema-specifications>=2023.03.6 in /home/gitpod/.pyenv/versions/3.8.18/lib/python3.8/site-packages (from jsonschema>=3.0->altair==4.2.2->-r /workspace/mildew-detection/requirements.txt (line 2)) (2023.12.1)\n",
            "Requirement already satisfied: pkgutil-resolve-name>=1.3.10 in /home/gitpod/.pyenv/versions/3.8.18/lib/python3.8/site-packages (from jsonschema>=3.0->altair==4.2.2->-r /workspace/mildew-detection/requirements.txt (line 2)) (1.3.10)\n",
            "Requirement already satisfied: referencing>=0.28.4 in /home/gitpod/.pyenv/versions/3.8.18/lib/python3.8/site-packages (from jsonschema>=3.0->altair==4.2.2->-r /workspace/mildew-detection/requirements.txt (line 2)) (0.35.0)\n",
            "Requirement already satisfied: rpds-py>=0.7.1 in /home/gitpod/.pyenv/versions/3.8.18/lib/python3.8/site-packages (from jsonschema>=3.0->altair==4.2.2->-r /workspace/mildew-detection/requirements.txt (line 2)) (0.18.0)\n",
            "Requirement already satisfied: charset-normalizer<4,>=2 in /home/gitpod/.pyenv/versions/3.8.18/lib/python3.8/site-packages (from requests->kaggle==1.5.12->-r /workspace/mildew-detection/requirements.txt (line 23)) (3.3.2)\n",
            "Requirement already satisfied: idna<4,>=2.5 in /home/gitpod/.pyenv/versions/3.8.18/lib/python3.8/site-packages (from requests->kaggle==1.5.12->-r /workspace/mildew-detection/requirements.txt (line 23)) (3.7)\n",
            "Downloading opencv_python_headless-4.9.0.80-cp37-abi3-manylinux_2_17_x86_64.manylinux2014_x86_64.whl (49.6 MB)\n",
            "\u001b[2K   \u001b[90m━━━━━━━━━━━━━━━━━━━━━━━━━━━━━━━━━━━━━━━━\u001b[0m \u001b[32m49.6/49.6 MB\u001b[0m \u001b[31m54.4 MB/s\u001b[0m eta \u001b[36m0:00:00\u001b[0m:00:01\u001b[0m00:01\u001b[0m\n",
            "\u001b[?25hInstalling collected packages: opencv-python-headless\n",
            "Successfully installed opencv-python-headless-4.9.0.80\n",
            "Note: you may need to restart the kernel to use updated packages.\n"
          ]
        }
      ],
      "source": [
        "%pip install -r /workspace/mildew-detection/requirements.txt"
      ]
    },
    {
      "cell_type": "code",
      "execution_count": 3,
      "metadata": {},
      "outputs": [
        {
          "ename": "KeyboardInterrupt",
          "evalue": "",
          "output_type": "error",
          "traceback": [
            "\u001b[0;31m---------------------------------------------------------------------------\u001b[0m",
            "\u001b[0;31mKeyboardInterrupt\u001b[0m                         Traceback (most recent call last)",
            "\u001b[1;32m/workspace/mildew-detection/jupyter_notebooks/DataCollection.ipynb Cell 6\u001b[0m line \u001b[0;36m2\n\u001b[1;32m      <a href='vscode-notebook-cell://idamariasof-mildewdetec-vx9w4hgykoj.ws-eu114.gitpod.io/workspace/mildew-detection/jupyter_notebooks/DataCollection.ipynb#W5sdnNjb2RlLXJlbW90ZQ%3D%3D?line=0'>1</a>\u001b[0m \u001b[39mimport\u001b[39;00m \u001b[39mos\u001b[39;00m\n\u001b[0;32m----> <a href='vscode-notebook-cell://idamariasof-mildewdetec-vx9w4hgykoj.ws-eu114.gitpod.io/workspace/mildew-detection/jupyter_notebooks/DataCollection.ipynb#W5sdnNjb2RlLXJlbW90ZQ%3D%3D?line=1'>2</a>\u001b[0m \u001b[39mimport\u001b[39;00m \u001b[39mnumpy\u001b[39;00m\n\u001b[1;32m      <a href='vscode-notebook-cell://idamariasof-mildewdetec-vx9w4hgykoj.ws-eu114.gitpod.io/workspace/mildew-detection/jupyter_notebooks/DataCollection.ipynb#W5sdnNjb2RlLXJlbW90ZQ%3D%3D?line=2'>3</a>\u001b[0m \u001b[39mimport\u001b[39;00m \u001b[39mcv\u001b[39;00m\n",
            "File \u001b[0;32m/workspace/.pip-modules/lib/python3.8/site-packages/numpy/__init__.py:140\u001b[0m\n\u001b[1;32m    137\u001b[0m \u001b[39m# Allow distributors to run custom init code\u001b[39;00m\n\u001b[1;32m    138\u001b[0m \u001b[39mfrom\u001b[39;00m \u001b[39m.\u001b[39;00m \u001b[39mimport\u001b[39;00m _distributor_init\n\u001b[0;32m--> 140\u001b[0m \u001b[39mfrom\u001b[39;00m \u001b[39m.\u001b[39;00m \u001b[39mimport\u001b[39;00m core\n\u001b[1;32m    141\u001b[0m \u001b[39mfrom\u001b[39;00m \u001b[39m.\u001b[39;00m\u001b[39mcore\u001b[39;00m \u001b[39mimport\u001b[39;00m \u001b[39m*\u001b[39m\n\u001b[1;32m    142\u001b[0m \u001b[39mfrom\u001b[39;00m \u001b[39m.\u001b[39;00m \u001b[39mimport\u001b[39;00m compat\n",
            "File \u001b[0;32m/workspace/.pip-modules/lib/python3.8/site-packages/numpy/core/__init__.py:72\u001b[0m\n\u001b[1;32m     70\u001b[0m \u001b[39mfrom\u001b[39;00m \u001b[39m.\u001b[39;00m \u001b[39mimport\u001b[39;00m numerictypes \u001b[39mas\u001b[39;00m nt\n\u001b[1;32m     71\u001b[0m multiarray\u001b[39m.\u001b[39mset_typeDict(nt\u001b[39m.\u001b[39msctypeDict)\n\u001b[0;32m---> 72\u001b[0m \u001b[39mfrom\u001b[39;00m \u001b[39m.\u001b[39;00m \u001b[39mimport\u001b[39;00m numeric\n\u001b[1;32m     73\u001b[0m \u001b[39mfrom\u001b[39;00m \u001b[39m.\u001b[39;00m\u001b[39mnumeric\u001b[39;00m \u001b[39mimport\u001b[39;00m \u001b[39m*\u001b[39m\n\u001b[1;32m     74\u001b[0m \u001b[39mfrom\u001b[39;00m \u001b[39m.\u001b[39;00m \u001b[39mimport\u001b[39;00m fromnumeric\n",
            "File \u001b[0;32m/workspace/.pip-modules/lib/python3.8/site-packages/numpy/core/numeric.py:23\u001b[0m\n\u001b[1;32m     21\u001b[0m \u001b[39mfrom\u001b[39;00m \u001b[39m.\u001b[39;00m \u001b[39mimport\u001b[39;00m overrides\n\u001b[1;32m     22\u001b[0m \u001b[39mfrom\u001b[39;00m \u001b[39m.\u001b[39;00m \u001b[39mimport\u001b[39;00m umath\n\u001b[0;32m---> 23\u001b[0m \u001b[39mfrom\u001b[39;00m \u001b[39m.\u001b[39;00m \u001b[39mimport\u001b[39;00m shape_base\n\u001b[1;32m     24\u001b[0m \u001b[39mfrom\u001b[39;00m \u001b[39m.\u001b[39;00m\u001b[39moverrides\u001b[39;00m \u001b[39mimport\u001b[39;00m set_module\n\u001b[1;32m     25\u001b[0m \u001b[39mfrom\u001b[39;00m \u001b[39m.\u001b[39;00m\u001b[39mumath\u001b[39;00m \u001b[39mimport\u001b[39;00m (multiply, invert, sin, PINF, NAN)\n",
            "File \u001b[0;32m/workspace/.pip-modules/lib/python3.8/site-packages/numpy/core/shape_base.py:13\u001b[0m\n\u001b[1;32m     11\u001b[0m \u001b[39mfrom\u001b[39;00m \u001b[39m.\u001b[39;00m\u001b[39m_asarray\u001b[39;00m \u001b[39mimport\u001b[39;00m array, asanyarray\n\u001b[1;32m     12\u001b[0m \u001b[39mfrom\u001b[39;00m \u001b[39m.\u001b[39;00m\u001b[39mmultiarray\u001b[39;00m \u001b[39mimport\u001b[39;00m normalize_axis_index\n\u001b[0;32m---> 13\u001b[0m \u001b[39mfrom\u001b[39;00m \u001b[39m.\u001b[39;00m \u001b[39mimport\u001b[39;00m fromnumeric \u001b[39mas\u001b[39;00m _from_nx\n\u001b[1;32m     16\u001b[0m array_function_dispatch \u001b[39m=\u001b[39m functools\u001b[39m.\u001b[39mpartial(\n\u001b[1;32m     17\u001b[0m     overrides\u001b[39m.\u001b[39marray_function_dispatch, module\u001b[39m=\u001b[39m\u001b[39m'\u001b[39m\u001b[39mnumpy\u001b[39m\u001b[39m'\u001b[39m)\n\u001b[1;32m     20\u001b[0m \u001b[39mdef\u001b[39;00m \u001b[39m_atleast_1d_dispatcher\u001b[39m(\u001b[39m*\u001b[39marys):\n",
            "File \u001b[0;32m/workspace/.pip-modules/lib/python3.8/site-packages/numpy/core/fromnumeric.py:15\u001b[0m\n\u001b[1;32m     13\u001b[0m \u001b[39mfrom\u001b[39;00m \u001b[39m.\u001b[39;00m\u001b[39m_asarray\u001b[39;00m \u001b[39mimport\u001b[39;00m asarray, array, asanyarray\n\u001b[1;32m     14\u001b[0m \u001b[39mfrom\u001b[39;00m \u001b[39m.\u001b[39;00m\u001b[39mmultiarray\u001b[39;00m \u001b[39mimport\u001b[39;00m concatenate\n\u001b[0;32m---> 15\u001b[0m \u001b[39mfrom\u001b[39;00m \u001b[39m.\u001b[39;00m \u001b[39mimport\u001b[39;00m _methods\n\u001b[1;32m     17\u001b[0m _dt_ \u001b[39m=\u001b[39m nt\u001b[39m.\u001b[39msctype2char\n\u001b[1;32m     19\u001b[0m \u001b[39m# functions that are methods\u001b[39;00m\n",
            "File \u001b[0;32m<frozen importlib._bootstrap>:991\u001b[0m, in \u001b[0;36m_find_and_load\u001b[0;34m(name, import_)\u001b[0m\n",
            "File \u001b[0;32m<frozen importlib._bootstrap>:975\u001b[0m, in \u001b[0;36m_find_and_load_unlocked\u001b[0;34m(name, import_)\u001b[0m\n",
            "File \u001b[0;32m<frozen importlib._bootstrap>:671\u001b[0m, in \u001b[0;36m_load_unlocked\u001b[0;34m(spec)\u001b[0m\n",
            "File \u001b[0;32m<frozen importlib._bootstrap_external>:839\u001b[0m, in \u001b[0;36mexec_module\u001b[0;34m(self, module)\u001b[0m\n",
            "File \u001b[0;32m<frozen importlib._bootstrap_external>:934\u001b[0m, in \u001b[0;36mget_code\u001b[0;34m(self, fullname)\u001b[0m\n",
            "File \u001b[0;32m<frozen importlib._bootstrap_external>:1033\u001b[0m, in \u001b[0;36mget_data\u001b[0;34m(self, path)\u001b[0m\n",
            "\u001b[0;31mKeyboardInterrupt\u001b[0m: "
          ]
        }
      ],
      "source": [
        "import os\n",
        "import numpy\n",
        "import cv2"
      ]
    },
    {
      "cell_type": "markdown",
      "metadata": {
        "id": "ZY3l0-AxO93d"
      },
      "source": [
        "---"
      ]
    }
  ],
  "metadata": {
    "accelerator": "GPU",
    "colab": {
      "name": "Data Practitioner Jupyter Notebook.ipynb",
      "provenance": [],
      "toc_visible": true
    },
    "interpreter": {
      "hash": "8b8334dab9339717f727a1deaf837b322d7a41c20d15cc86be99a8e69ceec8ce"
    },
    "kernelspec": {
      "display_name": "Python 3.8.12 64-bit ('3.8.12': pyenv)",
      "name": "python3"
    },
    "language_info": {
      "codemirror_mode": {
        "name": "ipython",
        "version": 3
      },
      "file_extension": ".py",
      "mimetype": "text/x-python",
      "name": "python",
      "nbconvert_exporter": "python",
      "pygments_lexer": "ipython3",
      "version": "3.8.18"
    },
    "orig_nbformat": 2
  },
  "nbformat": 4,
  "nbformat_minor": 2
}
